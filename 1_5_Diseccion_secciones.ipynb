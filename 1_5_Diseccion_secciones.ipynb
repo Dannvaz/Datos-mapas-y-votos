{
  "cells": [
    {
      "cell_type": "markdown",
      "metadata": {
        "id": "view-in-github",
        "colab_type": "text"
      },
      "source": [
        "<a href=\"https://colab.research.google.com/github/Dannvaz/Datos-mapas-y-votos/blob/main/1_5_Diseccion_secciones.ipynb\" target=\"_parent\"><img src=\"https://colab.research.google.com/assets/colab-badge.svg\" alt=\"Open In Colab\"/></a>"
      ]
    },
    {
      "cell_type": "markdown",
      "source": [
        "\n",
        "\n",
        "**Análisis Geoespacial para Principiantes: Visualizando Datos Electorales con Python**\n",
        "\n",
        "En el campo de las ciencias sociales, y particularmente en el análisis político, la capacidad de visualizar y analizar datos espaciales se ha vuelto crucial.  Comprender patrones geográficos en fenómenos sociales, como el comportamiento electoral, permite a investigadores y analistas desentrañar dinámicas complejas y tomar decisiones informadas.  Afortunadamente, herramientas de programación como Python, junto con bibliotecas especializadas, han democratizado el acceso a estas técnicas, haciéndolas accesibles incluso para aquellos sin una formación profunda en informática.\n",
        "\n",
        "El código que presentamos es un excelente ejemplo de cómo Python puede ser utilizado para el análisis geoespacial en ciencias sociales. Se centra en un caso práctico concreto: la visualización de secciones electorales en Guanajuato, México.  Aunque el ejemplo es específico, los principios y las técnicas aquí ilustradas son aplicables a una amplia gama de investigaciones en ciencias sociales que involucren datos georreferenciados.\n",
        "\n",
        "**Bibliotecas Clave: El Arsenal Python para Datos Geoespaciales**\n",
        "\n",
        "Para llevar a cabo este análisis, el código se apoya en cuatro bibliotecas fundamentales de Python, cada una con un propósito específico:\n",
        "\n",
        "*   **geopandas:**  Esta biblioteca es la piedra angular del análisis geoespacial en Python.  Piensa en `geopandas` como una extensión de la popular biblioteca `pandas` (que veremos a continuación), pero diseñada específicamente para manejar datos geográficos.  Permite trabajar con mapas, polígonos, coordenadas y otros datos geoespaciales de manera intuitiva. En nuestro código, `geopandas` se utiliza para cargar el archivo GeoPackage que contiene la información de las secciones electorales, filtrar datos por entidad federativa y municipios, y finalmente, graficar las geometrías de estas secciones en un mapa.  Para un científico social, `geopandas` abre la puerta a analizar datos de encuestas georreferenciadas, datos censales a nivel de distrito, o incluso datos de eventos políticos con una dimensión espacial.\n",
        "\n",
        "*   **pandas:**  Si `geopandas` maneja los aspectos *geo* de los datos, `pandas` se encarga de la manipulación de datos tabulares en general.  `pandas` es una biblioteca esencial en la ciencia de datos en Python, facilitando la organización y el análisis de datos en formato de tablas, similar a una hoja de cálculo de Excel o una base de datos. En el contexto de nuestro código, `pandas` juega un rol importante en la conversión de un `GeoDataFrame` (el tipo de datos geoespaciales de `geopandas`) a un `DataFrame` tradicional. Esta conversión es útil para exportar los datos a formatos como Excel, o para realizar análisis estadísticos que no requieran la información geométrica.  Además, `pandas` permite eliminar columnas innecesarias, simplificando los conjuntos de datos para análisis posteriores.  En ciencias sociales, `pandas` es fundamental para limpiar, transformar y analizar datos de encuestas, censos, registros administrativos, entre otros.\n",
        "\n",
        "*   **matplotlib:**  La visualización es clave para la comprensión de datos, y `matplotlib` es la biblioteca estándar en Python para crear gráficos y mapas estáticos de alta calidad.  `matplotlib` permite generar una amplia variedad de visualizaciones, desde simples gráficos de barras hasta mapas complejos con múltiples capas de información.  En nuestro código, `matplotlib` se utiliza para generar el mapa de las secciones electorales.  Se personalizan elementos como títulos, colores, etiquetas y se guarda el mapa como un archivo de imagen. La capacidad de crear mapas visualmente atractivos y informativos es esencial para la divulgación científica y la presentación de resultados de investigación en ciencias sociales. [Image of Ejemplo de mapa generado con matplotlib]\n",
        "\n",
        "*   **openpyxl:**  Finalmente, `openpyxl` se encarga de la tarea de exportar datos a archivos de Excel.  Aunque Python ofrece muchas opciones para el análisis de datos, Excel sigue siendo una herramienta ampliamente utilizada para compartir y manipular datos, especialmente en entornos no especializados en programación.  `openpyxl` permite guardar los `DataFrame` de `pandas` directamente en formato `.xlsx`, facilitando la interoperabilidad con otras herramientas y usuarios.  Para un investigador en ciencias sociales, esto significa poder compartir fácilmente sus datos procesados y visualizados con colegas o tomadores de decisiones que quizás no estén familiarizados con Python.\n",
        "\n",
        "**Desglosando el Código: Paso a Paso para Principiantes**\n",
        "\n",
        "El código proporcionado está estructurado de manera lógica y progresiva, facilitando su comprensión para principiantes.  Vamos a analizar cada sección paso a paso:\n",
        "\n",
        "**1. Instalación e Importación de `geopandas`**"
      ],
      "metadata": {
        "id": "bj6ZkFwP1KmF"
      }
    },
    {
      "cell_type": "code",
      "source": [
        "!pip install geopandas\n",
        "import geopandas as gpd"
      ],
      "outputs": [],
      "execution_count": null,
      "metadata": {
        "id": "CIKyvRBc1KmN"
      }
    },
    {
      "cell_type": "markdown",
      "source": [
        "*   **`!pip install geopandas`**:  Esta línea es un comando especial para ejecutar en entornos como Google Colab (que es donde probablemente ejecutarás este código, como se indica en el enlace proporcionado). `pip` es el gestor de paquetes de Python, y `install geopandas` le indica a `pip` que descargue e instale la biblioteca `geopandas`.  Esencialmente, esta línea prepara tu entorno de trabajo para que puedas usar las funciones de `geopandas`.\n",
        "*   **`import geopandas as gpd`**:  Una vez instalada la biblioteca, esta línea la importa a tu script de Python.  `import geopandas`  haría lo mismo, pero `as gpd` le asigna un alias corto (`gpd`) a la biblioteca.  Esto significa que en lugar de escribir `geopandas` cada vez que quieras usar una función de la biblioteca, puedes simplemente escribir `gpd`, haciendo tu código más conciso y legible.\n",
        "\n",
        "**2. Cargar el Archivo GeoPackage**"
      ],
      "metadata": {
        "id": "eu0bsvFs1KmQ"
      }
    },
    {
      "cell_type": "code",
      "source": [
        "gpkg_file_path = '/content/SECCIONES_2024.gpkg'\n",
        "secciones_gdf = gpd.read_file( gpkg_file_path, layer='SECCIONES_2024')"
      ],
      "outputs": [],
      "execution_count": null,
      "metadata": {
        "id": "7LB_W5fy1KmR"
      }
    },
    {
      "cell_type": "markdown",
      "source": [
        "*   **`gpkg_file_path = '/content/SECCIONES_2024.gpkg'`**:  Aquí se define una variable llamada `gpkg_file_path` que almacena la ruta al archivo GeoPackage.  Un archivo GeoPackage (`.gpkg`) es un formato estándar para almacenar datos geoespaciales.  Es importante notar que la ruta `'/content/SECCIONES_2024.gpkg'` asume que el archivo se encuentra en la carpeta `/content/` en Google Colab. Si tu archivo está en una ubicación diferente, debes modificar esta ruta.\n",
        "*   **`secciones_gdf = gpd.read_file( gpkg_file_path, layer='SECCIONES_2024')`**:  Esta es la línea clave para cargar los datos geoespaciales.  `gpd.read_file()` es una función de `geopandas` que lee archivos geoespaciales.  Se le pasan dos argumentos:\n",
        "    *   `gpkg_file_path`:  La ruta al archivo GeoPackage que definimos en la línea anterior.\n",
        "    *   `layer='SECCIONES_2024'`:  Los archivos GeoPackage pueden contener múltiples \"capas\" de información.  Aquí, se especifica que queremos cargar la capa llamada `'SECCIONES_2024'`, que presumiblemente contiene los datos de las secciones electorales.\n",
        "    El resultado de esta función se guarda en una variable llamada `secciones_gdf`.  `gdf` significa `GeoDataFrame`, que es la estructura de datos principal de `geopandas` para representar datos geoespaciales.  Un `GeoDataFrame` es similar a una tabla, pero cada fila puede tener asociada una geometría (por ejemplo, un polígono que representa una sección electoral).\n",
        "\n",
        "**3. Filtrar Secciones de Guanajuato**"
      ],
      "metadata": {
        "id": "iEbvmBfd1KmS"
      }
    },
    {
      "cell_type": "code",
      "source": [
        "secciones_gto = secciones_gdf[secciones_gdf['ENTIDAD'] == 11]"
      ],
      "outputs": [],
      "execution_count": null,
      "metadata": {
        "id": "v7_srpdR1KmT"
      }
    },
    {
      "cell_type": "markdown",
      "source": [
        "*   **`secciones_gdf['ENTIDAD'] == 11`**:  Esta parte del código crea una \"máscara booleana\".  Accede a la columna `'ENTIDAD'` del `GeoDataFrame` `secciones_gdf` y verifica para cada fila si el valor en esa columna es igual a `11`.  Esto devuelve una Serie de valores `True` y `False`, donde `True` indica que la condición se cumple (la entidad es 11, que corresponde a Guanajuato en México) y `False` indica lo contrario.\n",
        "*   **`secciones_gdf[...]`**:  Esta sintaxis se utiliza para filtrar filas de un `DataFrame` (o `GeoDataFrame`).  Al pasar la máscara booleana entre corchetes, se seleccionan únicamente las filas donde la máscara es `True`.\n",
        "*   **`secciones_gto = ...`**:  El resultado del filtrado se asigna a una nueva variable llamada `secciones_gto`, que ahora contiene solo las secciones electorales correspondientes a Guanajuato.\n",
        "\n",
        "**4. Simplificar Geometrías**"
      ],
      "metadata": {
        "id": "wmNoyGkx1KmU"
      }
    },
    {
      "cell_type": "code",
      "source": [
        "secciones_gto['geometry'] = secciones_gto['geometry'].simplify(0.01)"
      ],
      "outputs": [],
      "execution_count": null,
      "metadata": {
        "id": "2duWToUx1KmV"
      }
    },
    {
      "cell_type": "markdown",
      "source": [
        "*   **`secciones_gto['geometry']`**:  Accede a la columna `'geometry'` del `GeoDataFrame` `secciones_gto`.  Esta columna contiene los objetos geométricos (polígonos) que definen la forma de cada sección electoral.\n",
        "*   **`.simplify(0.01)`**:  El método `.simplify()` se aplica a cada geometría en la columna `'geometry'`.  Este método reduce el número de vértices que definen cada polígono, simplificando su forma. El valor `0.01` es un parámetro que controla el nivel de simplificación.  Simplificar las geometrías puede ser útil para mejorar el rendimiento al graficar mapas, especialmente cuando se trabaja con conjuntos de datos grandes o visualizaciones interactivas.  Sin embargo, una simplificación excesiva puede distorsionar la forma de las geometrías.\n",
        "*   **`secciones_gto['geometry'] = ...`**:  El resultado de la simplificación se reasigna de nuevo a la columna `'geometry'` del `GeoDataFrame` `secciones_gto`, reemplazando las geometrías originales con las simplificadas.\n",
        "\n",
        "**5. Mostrar las Primeras Filas**"
      ],
      "metadata": {
        "id": "3klI7iqg1KmV"
      }
    },
    {
      "cell_type": "code",
      "source": [
        "secciones_gto.head()"
      ],
      "outputs": [],
      "execution_count": null,
      "metadata": {
        "id": "CZjaqCx61KmW"
      }
    },
    {
      "cell_type": "markdown",
      "source": [
        "*   **`.head()`**:  Este método se utiliza para mostrar las primeras filas de un `DataFrame` o `GeoDataFrame`.  Por defecto, muestra las primeras 5 filas, pero puedes especificar el número de filas entre paréntesis (por ejemplo, `.head(10)` para mostrar las primeras 10 filas).  Esto es útil para inspeccionar rápidamente los datos y verificar que las operaciones anteriores (filtrado, simplificación, etc.) se hayan realizado correctamente.  En este caso, `secciones_gto.head()` mostrará las primeras 5 filas del `GeoDataFrame` filtrado que contiene las secciones electorales de Guanajuato.\n",
        "\n",
        "**6. Graficar el GeoDataFrame**"
      ],
      "metadata": {
        "id": "ayQpn7do1KmX"
      }
    },
    {
      "cell_type": "code",
      "source": [
        "secciones_gto.plot(aspect=1)"
      ],
      "outputs": [],
      "execution_count": null,
      "metadata": {
        "id": "7M_q330p1KmX"
      }
    },
    {
      "cell_type": "markdown",
      "source": [
        "*   **`.plot()`**:  Este es un método fundamental de `geopandas` para generar mapas de forma rápida y sencilla.  Cuando se aplica a un `GeoDataFrame`, `.plot()` automáticamente grafica las geometrías contenidas en la columna `'geometry'`.\n",
        "*   **`aspect=1`**:  Este parámetro se agrega para establecer la relación de aspecto del mapa en 1, lo que asegura que el mapa se visualice sin distorsiones en las proporciones.  Esto es especialmente importante para mapas que representan áreas geográficas donde las proporciones precisas son relevantes.\n",
        "\n",
        "**7. Convertir a GeoJSON**"
      ],
      "metadata": {
        "id": "qrkxVslz1KmY"
      }
    },
    {
      "cell_type": "code",
      "source": [
        "secciones_gto.to_file('secciones_gto.geojson', driver='GeoJSON')"
      ],
      "outputs": [],
      "execution_count": null,
      "metadata": {
        "id": "OBY5inmP1KmY"
      }
    },
    {
      "cell_type": "markdown",
      "source": [
        "*   **`.to_file(...)`**:  Este método de `geopandas` se utiliza para guardar un `GeoDataFrame` en un archivo.\n",
        "*   **`'secciones_gto.geojson'`**:  Este es el nombre del archivo que se creará.  `.geojson` es un formato estándar basado en JSON para codificar estructuras de datos geográficos.  GeoJSON es ampliamente utilizado en aplicaciones web y sistemas de información geográfica (SIG).\n",
        "*   **`driver='GeoJSON'`**:  Este parámetro especifica el \"driver\" que se utilizará para escribir el archivo.  En este caso, `'GeoJSON'` indica que se debe utilizar el driver GeoJSON para generar un archivo en formato GeoJSON.  La conversión a GeoJSON puede ser útil para compartir los datos con otras herramientas o plataformas que trabajen con este formato.\n",
        "\n",
        "**8. Exportar a Excel**\n",
        "\n",
        "Esta sección del código se enfoca en exportar los datos a un archivo Excel."
      ],
      "metadata": {
        "id": "R-8pxRHn1KmY"
      }
    },
    {
      "cell_type": "code",
      "source": [
        "!pip install geopandas pandas openpyxl\n",
        "import geopandas as gpd\n",
        "import pandas as pd\n",
        "\n",
        "# ... (cargar archivo y filtrar Guanajuato, como antes) ...\n",
        "\n",
        "secciones_gto_df = pd.DataFrame(secciones_gto.drop(columns='geometry'))\n",
        "secciones_gto_df.to_excel('secciones_gto.xlsx', index=False)\n",
        "\n",
        "from google.colab import files\n",
        "files.download('secciones_gto.xlsx')"
      ],
      "outputs": [],
      "execution_count": null,
      "metadata": {
        "id": "OKUjDtIQ1KmZ"
      }
    },
    {
      "cell_type": "markdown",
      "source": [
        "*   **`!pip install geopandas pandas openpyxl`**:  Se instala `openpyxl` además de `geopandas` y `pandas`, ya que `openpyxl` es necesario para escribir archivos Excel.\n",
        "*   **`import pandas as pd`**:  Se importa la biblioteca `pandas` si no se había importado previamente.\n",
        "*   **`secciones_gto_df = pd.DataFrame(secciones_gto.drop(columns='geometry'))`**:\n",
        "    *   **`secciones_gto.drop(columns='geometry')`**:  Se elimina la columna `'geometry'` del `GeoDataFrame` `secciones_gto`.  El método `.drop()` de `pandas` se utiliza para eliminar columnas o filas.  `columns='geometry'` especifica que se desea eliminar la columna llamada `'geometry'`.  Esto es necesario porque un `DataFrame` de `pandas` tradicional no puede contener objetos geométricos directamente.\n",
        "    *   **`pd.DataFrame(...)`**:  El resultado de `.drop()` (que es un `GeoDataFrame` sin la columna `'geometry'`) se convierte a un `DataFrame` de `pandas` utilizando `pd.DataFrame()`.  Esto crea un `DataFrame` que contiene los datos tabulares (atributos) de las secciones electorales, pero sin la información geométrica.\n",
        "    *   **`secciones_gto_df = ...`**:  El `DataFrame` resultante se guarda en la variable `secciones_gto_df`.\n",
        "*   **`secciones_gto_df.to_excel('secciones_gto.xlsx', index=False)`**:\n",
        "    *   **`.to_excel(...)`**:  Este método de `pandas` exporta un `DataFrame` a un archivo Excel.\n",
        "    *   **`'secciones_gto.xlsx'`**:  Es el nombre del archivo Excel que se creará.\n",
        "    *   **`index=False`**:  Este parámetro indica que no se debe escribir el índice del `DataFrame` en el archivo Excel.\n",
        "*   **`from google.colab import files; files.download('secciones_gto.xlsx')`**:  Este código es específico para Google Colab.  Permite descargar el archivo `'secciones_gto.xlsx'` directamente a tu computadora desde el entorno de Colab.\n",
        "\n",
        "**9. Visualización con Etiquetas**\n",
        "\n",
        "Esta sección se enfoca en crear un mapa visual de las secciones electorales con etiquetas."
      ],
      "metadata": {
        "id": "j33wRmyw1Kma"
      }
    },
    {
      "cell_type": "code",
      "source": [
        "!pip install geopandas matplotlib\n",
        "import geopandas as gpd\n",
        "import matplotlib.pyplot as plt\n",
        "\n",
        "# ... (cargar archivo y filtrar Guanajuato, como antes) ...\n",
        "\n",
        "fig, ax = plt.subplots(figsize=(10, 10))\n",
        "secciones_gto.plot(ax=ax, color='lightblue', edgecolor='black', aspect=1)\n",
        "\n",
        "for x, y, label in zip(secciones_gto.geometry.centroid.x, secciones_gto.geometry.centroid.y, secciones_gto['SECCION']):\n",
        "    ax.text(x, y, label, fontsize=8, ha='center', color='black')\n",
        "\n",
        "plt.title('Secciones Electorales de Guanajuato con Etiquetas', fontsize=15)\n",
        "plt.show()"
      ],
      "outputs": [],
      "execution_count": null,
      "metadata": {
        "id": "M-dFCR6-1Kma"
      }
    },
    {
      "cell_type": "markdown",
      "source": [
        "*   **`!pip install geopandas matplotlib`**:  Se instalan las bibliotecas necesarias (`matplotlib` además de `geopandas`).\n",
        "*   **`import matplotlib.pyplot as plt`**:  Se importa el módulo `pyplot` de `matplotlib` con el alias `plt`, que es la convención estándar para usar `matplotlib`.\n",
        "*   **`fig, ax = plt.subplots(figsize=(10, 10))`**:\n",
        "    *   **`plt.subplots(...)`**:  Esta función de `matplotlib.pyplot` crea una figura (`fig`) y un eje (`ax`) para graficar.  En `matplotlib`, una figura es el contenedor general para la visualización, y un eje es el área donde se dibuja el gráfico.\n",
        "    *   **`figsize=(10, 10)`**:  Define el tamaño de la figura en pulgadas (ancho y alto).\n",
        "    *   **`fig, ax = ...`**:  La función `plt.subplots()` devuelve dos objetos: la figura y el eje, que se guardan en las variables `fig` y `ax` respectivamente.\n",
        "*   **`secciones_gto.plot(ax=ax, color='lightblue', edgecolor='black', aspect=1)`**:  Se grafica el `GeoDataFrame` `secciones_gto` en el eje `ax`.\n",
        "    *   **`ax=ax`**:  Se especifica que el gráfico debe dibujarse en el eje `ax` que creamos anteriormente.\n",
        "    *   **`color='lightblue'`**:  Define el color de relleno de los polígonos (secciones electorales) como azul claro.\n",
        "    *   **`edgecolor='black'`**:  Define el color del borde de los polígonos como negro.\n",
        "    *   **`aspect=1`**:  Nuevamente, se establece la relación de aspecto en 1 para evitar distorsiones.\n",
        "*   **`for x, y, label in zip(...)`**:  Este bucle `for` añade etiquetas a cada sección electoral en el mapa.\n",
        "    *   **`secciones_gto.geometry.centroid`**:  Calcula el centroide (punto central) de cada polígono en la columna `'geometry'` de `secciones_gto`.  Esto devuelve una Serie de objetos `Point` que representan los centroides.\n",
        "    *   **`.x` y `.y`**:  Acceden a las coordenadas x e y de cada centroide, respectivamente.\n",
        "    *   **`secciones_gto['SECCION']`**:  Accede a la columna `'SECCION'` de `secciones_gto`, que se supone que contiene las etiquetas para cada sección electoral.\n",
        "    *   **`zip(...)`**:  Combina las coordenadas x, coordenadas y, y etiquetas en tuplas.\n",
        "    *   **`for x, y, label in ...`**:  Itera sobre las tuplas generadas por `zip()`, asignando la coordenada x a `x`, la coordenada y a `y`, y la etiqueta a `label` en cada iteración.\n",
        "    *   **`ax.text(x, y, label, fontsize=8, ha='center', color='black')`**:  Para cada sección electoral, se añade un texto (etiqueta) en el mapa.\n",
        "        *   **`ax.text(...)`**:  Función de `matplotlib.axes` para añadir texto al eje.\n",
        "        *   **`x, y`**:  Coordenadas donde se colocará el texto (centroide de la sección).\n",
        "        *   **`label`**:  El texto a mostrar (etiqueta de la sección).\n",
        "        *   **`fontsize=8`**:  Tamaño de la fuente del texto.\n",
        "        *   **`ha='center'`**:  Alineación horizontal del texto (centrado horizontalmente en el punto x, y).\n",
        "        *   **`color='black'`**:  Color del texto (negro).\n",
        "*   **`plt.title('Secciones Electorales de Guanajuato con Etiquetas', fontsize=15)`**:  Establece el título del mapa.\n",
        "    *   **`plt.title(...)`**:  Función de `matplotlib.pyplot` para establecer el título del gráfico actual.\n",
        "    *   **`'Secciones Electorales de Guanajuato con Etiquetas'`**:  Texto del título.\n",
        "    *   **`fontsize=15`**:  Tamaño de la fuente del título.\n",
        "*   **`plt.show()`**:  Muestra el mapa en pantalla.\n",
        "\n",
        "**10. Guardar el Mapa**"
      ],
      "metadata": {
        "id": "ymOT5u9e1Kmb"
      }
    },
    {
      "cell_type": "code",
      "source": [
        "fig.savefig('mapa_secciones_guanajuato.png', dpi=300)\n",
        "from google.colab import files\n",
        "files.download('mapa_secciones_guanajuato.png')"
      ],
      "outputs": [],
      "execution_count": null,
      "metadata": {
        "id": "TQkvdj3L1Kmb"
      }
    },
    {
      "cell_type": "markdown",
      "source": [
        "*   **`fig.savefig(...)`**:  Método de la figura (`fig`) para guardar la figura en un archivo de imagen.\n",
        "    *   **`'mapa_secciones_guanajuato.png'`**:  Nombre del archivo de imagen que se creará.  `.png` indica que se guardará en formato PNG (Portable Network Graphics), un formato de imagen común para gráficos y mapas.\n",
        "    *   **`dpi=300`**:  Resolución de la imagen en puntos por pulgada (dots per inch).  `dpi=300` genera una imagen de alta resolución, adecuada para impresión o visualización detallada.\n",
        "*   **`from google.colab import files; files.download('mapa_secciones_guanajuato.png')`**:  Nuevamente, código específico de Google Colab para descargar el archivo de imagen a tu computadora.\n",
        "\n",
        "**11. Seleccionar Municipios Específicos**\n",
        "\n",
        "Esta última sección muestra cómo filtrar por municipios específicos."
      ],
      "metadata": {
        "id": "aYm4_t5t1Kmb"
      }
    },
    {
      "cell_type": "code",
      "source": [
        "import geopandas as gpd\n",
        "import matplotlib.pyplot as plt\n",
        "\n",
        "# ... (cargar archivo y filtrar Guanajuato, como antes) ...\n",
        "\n",
        "secciones_gto_filtered = secciones_gto[(secciones_gto['ENTIDAD'] == 11) & (secciones_gto['MUNICIPIO'].isin([2, 46]))]\n",
        "\n",
        "# ... (resto del código para graficar y etiquetar, similar a la sección anterior) ..."
      ],
      "outputs": [],
      "execution_count": null,
      "metadata": {
        "id": "ik9-vI161Kmc"
      }
    },
    {
      "cell_type": "markdown",
      "source": [
        "*   **`secciones_gto_filtered = secciones_gto[(secciones_gto['ENTIDAD'] == 11) & (secciones_gto['MUNICIPIO'].isin([2, 46]))]`**:  Esta línea filtra aún más el `GeoDataFrame` `secciones_gto`.\n",
        "    *   **`(secciones_gto['ENTIDAD'] == 11)`**:  Condición que ya conocemos: selecciona solo las secciones de Guanajuato.\n",
        "    *   **`(secciones_gto['MUNICIPIO'].isin([2, 46]))`**:  Nueva condición:  utiliza el método `.isin()` para verificar si el valor en la columna `'MUNICIPIO'` está dentro de la lista `[2, 46]`.  Esto selecciona únicamente las secciones que pertenecen a los municipios con códigos 2 y 46.\n",
        "    *   **`&`**:  El operador `&` (AND lógico) combina las dos condiciones.  Solo las filas que cumplen *ambas* condiciones se seleccionan.\n",
        "    *   **`secciones_gto_filtered = ...`**:  El resultado del filtrado se guarda en una nueva variable llamada `secciones_gto_filtered`.\n",
        "*   El resto del código en esta sección es similar a la sección de visualización anterior, pero utiliza `secciones_gto_filtered` en lugar de `secciones_gto` para graficar y etiquetar solo las secciones de los municipios filtrados.\n",
        "\n",
        "**Conclusión: Python como Herramienta para el Análisis Socioespacial**\n",
        "\n",
        "En resumen, el código que hemos desglosado demuestra el poder de Python y sus bibliotecas geoespaciales para realizar análisis espaciales en ciencias sociales.  Desde la carga y manipulación de datos geográficos con `geopandas` y `pandas`, hasta la creación de visualizaciones informativas con `matplotlib`, estas herramientas abren un mundo de posibilidades para investigadores y analistas.  La capacidad de filtrar datos por ubicación geográfica, visualizar patrones espaciales y exportar resultados en formatos accesibles como Excel y GeoJSON, convierte a Python en un aliado valioso para cualquier persona que trabaje con datos espaciales en el ámbito de las ciencias sociales.  Este código, aunque sencillo en su alcance, es un punto de partida excelente para explorar técnicas más avanzadas de análisis geoespacial y aplicarlas a una amplia gama de preguntas de investigación en el estudio de la sociedad y la política.\n",
        "\n",
        "Espero que esta explicación detallada sea útil para principiantes en ciencias sociales que se acercan a la programación y al análisis geoespacial. ¡No dudes en preguntar si tienes más dudas!"
      ],
      "metadata": {
        "id": "ZxXEXntz1Kmc"
      }
    }
  ],
  "metadata": {
    "colab": {
      "provenance": [],
      "include_colab_link": true
    },
    "kernelspec": {
      "display_name": "Python 3",
      "name": "python3"
    }
  },
  "nbformat": 4,
  "nbformat_minor": 0
}